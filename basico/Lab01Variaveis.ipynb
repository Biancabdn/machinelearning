{
 "cells": [
  {
   "cell_type": "markdown",
   "metadata": {},
   "source": [
    "# Básico em Python"
   ]
  },
  {
   "cell_type": "markdown",
   "metadata": {},
   "source": [
    "## Tipos Primitivos"
   ]
  },
  {
   "cell_type": "code",
   "execution_count": null,
   "metadata": {},
   "outputs": [],
   "source": [
    "i = 10       # Inteiro\n",
    "a = \"Teste\"  # String\n",
    "n = 10.6     # Flutuante\n",
    "b = True     # Lógico"
   ]
  },
  {
   "cell_type": "code",
   "execution_count": null,
   "metadata": {},
   "outputs": [],
   "source": [
    "i = 99       # Decimal\n",
    "i = 0xFFF    # Hexadecimal\n",
    "i = 0o543    # Octal\n",
    "i = 0b1010   # Binária\n",
    "\n",
    "n = 1100.0   # Flutuante\n",
    "n = 1.1e2    # Científica\n",
    "n = 3.14j    # Complexa\n",
    "\n",
    "a = 'Teste'\n",
    "a = \"Teste\"\n",
    "a = \"\"\"\n",
    "Teste\n",
    "\"\"\""
   ]
  },
  {
   "cell_type": "markdown",
   "metadata": {},
   "source": [
    "### Eliminar Variável"
   ]
  },
  {
   "cell_type": "code",
   "execution_count": null,
   "metadata": {},
   "outputs": [],
   "source": [
    "x = 1\n",
    "print(x)\n",
    "del(x)\n",
    "# print(x) # Aqui vai mostrar um erro"
   ]
  },
  {
   "cell_type": "markdown",
   "metadata": {},
   "source": [
    "## Verificar o tipo"
   ]
  },
  {
   "cell_type": "code",
   "execution_count": null,
   "metadata": {},
   "outputs": [],
   "source": [
    "print(type(n))"
   ]
  },
  {
   "cell_type": "markdown",
   "metadata": {},
   "source": [
    "## Mostrar Variável"
   ]
  },
  {
   "cell_type": "code",
   "execution_count": null,
   "metadata": {},
   "outputs": [],
   "source": [
    "print(\"Ola\\nTeste\")\n",
    "print(\"Ola\\tTeste\")"
   ]
  },
  {
   "cell_type": "code",
   "execution_count": null,
   "metadata": {},
   "outputs": [],
   "source": [
    "print(r\"C:\\teste\\nome\")"
   ]
  },
  {
   "cell_type": "code",
   "execution_count": null,
   "metadata": {},
   "outputs": [],
   "source": [
    "print(\"5\" + str(3))\n",
    "t = \"53\"\n",
    "print(int(t) + 2)\n",
    "j = float(t)"
   ]
  },
  {
   "cell_type": "code",
   "execution_count": null,
   "metadata": {},
   "outputs": [],
   "source": [
    "x = \"teste\"\n",
    "z = 65\n",
    "y = -65.43433\n",
    "hexa = 0xFACA\n",
    "hexa = 0xfaca\n",
    "\n",
    "print(\"String: %s\" % x)\n",
    "print(\"String: %c\" % z)\n",
    "print(\"Decimal: %d\" % y)\n",
    "print(\"Decimal sem sinal: %u\" % y)\n",
    "print(\"Inteiro: %i\" % z)\n",
    "print(\"Hexadecimal: %x\" % z)\n",
    "print(\"Hexadecimal: %X\" % z)\n",
    "print(\"Octal: %o\" % z)\n",
    "print(\"Flutuante: %f\" % y)\n",
    "print(\"Flutuante: %e\" % y)\n",
    "print(\"Flutuante: %g\" % y)\n",
    "\n",
    "print(\"Mesclado %s %i %f\" % (\"oi\", 7, 10.3))\n"
   ]
  },
  {
   "cell_type": "code",
   "execution_count": null,
   "metadata": {},
   "outputs": [],
   "source": [
    "a = b = c = 1\n",
    "print(\"Aqui é A:{0} B:{1} C:{2}\".format(a,b,c))"
   ]
  },
  {
   "cell_type": "code",
   "execution_count": null,
   "metadata": {},
   "outputs": [],
   "source": [
    "print(\"O Aluno {0} teve nota {1}\".format(\"José\", 100.00))"
   ]
  },
  {
   "cell_type": "markdown",
   "metadata": {},
   "source": [
    "## Entrada de Dados"
   ]
  },
  {
   "cell_type": "code",
   "execution_count": null,
   "metadata": {},
   "outputs": [],
   "source": [
    "x = input(\"Informe sua idade\")\n",
    "x = int(x)\n",
    "print(x + 6)"
   ]
  },
  {
   "cell_type": "code",
   "execution_count": null,
   "metadata": {},
   "outputs": [],
   "source": [
    "a = 1\n",
    "a = a + 1\n",
    "a = 8\n",
    "a = \"Ola\""
   ]
  },
  {
   "cell_type": "code",
   "execution_count": null,
   "metadata": {},
   "outputs": [],
   "source": [
    "nome = 10\n",
    "print(nome)"
   ]
  },
  {
   "cell_type": "code",
   "execution_count": null,
   "metadata": {},
   "outputs": [],
   "source": [
    "nome = \"Fernando\"\n",
    "nome[2:5]\n",
    "nome[-20:-2]\n",
    "nome[2:]\n",
    "nome[:4]"
   ]
  },
  {
   "cell_type": "markdown",
   "metadata": {},
   "source": [
    "OBS. Sem o print() apenas o último valor é mostrado."
   ]
  },
  {
   "cell_type": "markdown",
   "metadata": {},
   "source": [
    "## Cálculos Matemáticos"
   ]
  },
  {
   "cell_type": "code",
   "execution_count": null,
   "metadata": {},
   "outputs": [],
   "source": [
    "x = int(input(\"Informe o 1º valor:\"))\n",
    "y = int(input(\"Informe o 2º valor:\"))\n",
    "print(\"Somados: \", (x+y))\n",
    "print(\"Subtraídos: \", (x-y))\n",
    "print(\"Multiplicados: \", (x*y))\n",
    "print(\"Divididos: \", (x/y))\n",
    "print(\"Divisão de Inteiros: \", (x//y))\n",
    "print(\"Resto da Divisão de Inteiros: \", (x%y))\n",
    "print(\"Elevado: \", (x**y))\n",
    "print(\"Arrendodado com 2 casas: \", round(x/y,2))"
   ]
  },
  {
   "cell_type": "markdown",
   "metadata": {},
   "source": [
    "# Curiosidades"
   ]
  },
  {
   "cell_type": "markdown",
   "metadata": {},
   "source": [
    "## Funções"
   ]
  },
  {
   "cell_type": "code",
   "execution_count": null,
   "metadata": {},
   "outputs": [],
   "source": [
    "%pwd # mostra o diretório"
   ]
  },
  {
   "cell_type": "code",
   "execution_count": null,
   "metadata": {},
   "outputs": [],
   "source": [
    "%ls  # arquivos do diretório"
   ]
  },
  {
   "cell_type": "markdown",
   "metadata": {},
   "source": [
    "## Coração"
   ]
  },
  {
   "cell_type": "code",
   "execution_count": null,
   "metadata": {},
   "outputs": [],
   "source": [
    "import matplotlib.pyplot as plt\n",
    "import numpy as np\n",
    "plt.figure(figsize = [8,7])\n",
    "t = np.arange(0, 2*np.pi, 0.1)\n",
    "x = 16*np.sin(t)**3\n",
    "y = 13*np.cos(t)-5*np.cos(2*t)-2*np.cos(3*t)-np.cos(4*t)\n",
    "plt.plot(x,y)\n",
    "plt.title(\"Viva Python\")\n"
   ]
  }
 ],
 "metadata": {
  "kernelspec": {
   "display_name": "Python 3",
   "language": "python",
   "name": "python3"
  },
  "language_info": {
   "codemirror_mode": {
    "name": "ipython",
    "version": 3
   },
   "file_extension": ".py",
   "mimetype": "text/x-python",
   "name": "python",
   "nbconvert_exporter": "python",
   "pygments_lexer": "ipython3",
   "version": "3.7.5"
  }
 },
 "nbformat": 4,
 "nbformat_minor": 4
}
