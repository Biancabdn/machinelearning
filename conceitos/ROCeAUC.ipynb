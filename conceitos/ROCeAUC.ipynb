{
 "cells": [
  {
   "cell_type": "markdown",
   "metadata": {},
   "source": [
    "# Curva ROC e Valor AUC"
   ]
  },
  {
   "cell_type": "markdown",
   "metadata": {},
   "source": [
    "ROC (Receiver Operating Characteristic) é uma curva de probabilidade. É criada ao traçar a taxa verdadeiro-positivo contra a taxa de falsos-positivos. Ou seja, numero de vezes que o classificador acertou a predição contra o número de vezes que o classificador errou a predição.\n",
    "\n",
    "O AUC representa a área do ROC, considerado como o grau ou medida de separabilidade. Quanto maior seu valor, melhor é o modelo em prever ou (por exemplo) em distinguir entre pacientes com e sem uma determinada doença."
   ]
  },
  {
   "cell_type": "code",
   "execution_count": 2,
   "metadata": {},
   "outputs": [],
   "source": [
    "import numpy as np\n",
    "from sklearn import metrics                           # Metricas para calcular accuracy score\n",
    "from sklearn.model_selection import train_test_split  # Separa dados de treinamento e teste\n",
    "from sklearn.datasets import load_breast_cancer       # Carrega o dataset Breast Cancer    \n",
    "import matplotlib.pyplot as plt                       # Plotagem de gráficos\n",
    "from sklearn.model_selection import cross_val_score   # Obter uma média de Scores\n",
    "from sklearn.datasets import make_classification      # Dados arbitrários\n",
    "\n",
    "from sklearn.linear_model import LogisticRegression   # Modelos utilizados\n",
    "from sklearn.tree import DecisionTreeClassifier\n",
    "from sklearn.ensemble import RandomForestClassifier\n",
    "\n",
    "%matplotlib inline"
   ]
  },
  {
   "cell_type": "markdown",
   "metadata": {},
   "source": [
    "## Exemplo simples"
   ]
  },
  {
   "cell_type": "code",
   "execution_count": 8,
   "metadata": {},
   "outputs": [
    {
     "name": "stdout",
     "output_type": "stream",
     "text": [
      "[0 0 1 0 1 1 0 0 1 0 0 0 0 0 0 0 1 0 1 0 0 0 0 0 1 0 0 0 1 0 1 1 1 0 0 1 0\n",
      " 1 0 1 0 0 1 1 1 1 0 0 1 1 0 1 0 0 0 0 0 1 1 1 0 0 1 1 1 0 1 0 1 1 0 1 0 0\n",
      " 1 1 0 0 1 1 0 0 0 1 0 0 1 1 1 0 1 0 1 1 1 0 0 0 0 1 0 1 0 1 1 0 0 1 1 0 1\n",
      " 1 1 1 0 0 1 1 0 1 0 0 0 1 0 1 1 1 1 0 1 1 1 0 1 1 0 0 1 1 1 1 0 1 1 1 1 0\n",
      " 1 1 1 1 1 0 0 1 1 0 1 1 1 0 1 0 1 0 1 1 1 0 0 1 1 0 1 0 1 1 0 0 0 0 0 1 1\n",
      " 1 0 0 1 1 1 0 0 0 0 1 1 1 0 0 1 1 0 0 0 0 1 1 1 0 0 1 1 0 1 0 0 0 1 1 1 0\n",
      " 1 1 0 1 1 0 1 1 1 0 1 0 1 0 0 1 1 1 1 1 0 1 1 0 1 0 1 0 1 0 0 0 1 0 0 1 0\n",
      " 0 0 0 1 1 1 1 0 1 0 1 0 0 1 0 1 1 0 1 1 0 0 1 1 0 0 0 0 0 1 1 1 0 1 1 1 0\n",
      " 1 0 1 0 1 1 0 0 0 0 0 1 1 1 0 1 1 0 1 1 1 1 0 0 1 1 0 1 0 0 1 1 1 1 1 1 0\n",
      " 1 1 1 1 1 0 1 0 1 1 0 0 0 1 1 1 1 1 1 1 1 0 1 1 0 1 0 1 1 1 0 1 1 1 1 0 0\n",
      " 1 0 0 1 0 0 1 1 1 0 1 1 1 1 1 0 1 0 0 1 0 0 0 0 0 1 1 1 0 1 1 0 1 1 1 1 0\n",
      " 1 1 0 0 1 1 1 0 1 0 0 0 0 0 1 0 1 0 0 0 0 1 0 1 1 0 0 1 0 1 1 0 1 1 1 0 1\n",
      " 1 0 0 0 0 1 1 0 1 0 0 0 1 1 1 1 0 1 0 1 0 0 0 1 0 1 1 0 1 1 0 0 0 1 0 1 0\n",
      " 1 0 1 0 1 1 1 1 1 1 0 0 0 0 1 1 1 0 1 1 0 0 0 0 1 1 1 1 0 0 1 0 1 0 0 0 0\n",
      " 1 1 0 0 0 0 1 1 0 0 1 1 0 0 0 1 0 0 1 1 1 1 0 1 1 0 0 0 1 0 0 0 1 1 0 0 0\n",
      " 1 0 1 1 0 0 1 0 1 1 0 1 1 1 1 0 0 0 0 1 0 0 0 0 1 0 0 0 1 1 1 1 1 1 0 1 1\n",
      " 1 0 1 0 0 1 1 1 1 0 1 0 0 1 1 1 1 1 0 0 0 1 1 1 1 1 0 1 1 0 1 0 1 0 0 0 1\n",
      " 0 0 1 0 0 0 0 1 1 0 1 1 0 0 0 0 1 1 1 1 0 1 0 1 1 0 0 1 0 0 1 0 1 1 1 1 1\n",
      " 0 1 0 1 0 1 0 1 0 1 1 0 1 0 0 0 0 0 1 1 0 1 0 0 0 0 0 0 1 0 1 1 0 1 0 0 1\n",
      " 1 0 1 0 0 0 1 1 1 1 0 1 0 1 0 1 0 1 1 0 1 0 1 0 0 0 0 1 0 1 0 1 1 1 1 1 1\n",
      " 0 0 0 1 1 1 1 1 0 0 1 1 1 1 1 1 0 0 0 0 1 1 1 1 1 1 0 0 1 1 0 1 1 1 1 0 1\n",
      " 1 0 0 1 1 1 0 1 0 1 1 1 1 0 0 1 0 1 1 1 1 0 1 0 1 0 1 0 0 0 0 1 1 0 1 1 1\n",
      " 0 1 0 1 0 0 1 0 1 0 1 1 1 0 1 1 1 1 0 1 0 0 0 0 1 0 1 0 1 0 1 1 0 1 1 0 0\n",
      " 1 0 0 1 0 1 0 0 1 0 1 0 0 0 0 1 1 1 1 0 1 1 1 0 1 1 0 0 0 1 0 0 0 0 0 0 0\n",
      " 0 0 1 0 0 0 1 0 1 1 0 1 0 0 0 0 1 1 1 1 1 0 1 0 1 1 0 0 0 1 0 1 0 1 0 0 1\n",
      " 0 0 0 0 1 0 0 0 0 1 1 1 0 1 0 1 1 1 0 0 0 0 0 0 1 1 1 1 0 1 0 0 0 1 1 0 0\n",
      " 1 1 1 1 1 0 0 0 0 0 0 0 1 0 1 1 1 0 0 1 1 0 1 1 0 1 1 0 1 0 1 1 1 0 0 0 0\n",
      " 0]\n"
     ]
    }
   ],
   "source": [
    "# Gerar os dados\n",
    "X, y = make_classification(n_samples = 1000, n_features=10, n_classes = 2, flip_y = 0.5)\n",
    "X_train, X_test, y_train, y_test = train_test_split(X, y, test_size = .2)"
   ]
  },
  {
   "cell_type": "code",
   "execution_count": 12,
   "metadata": {},
   "outputs": [
    {
     "name": "stdout",
     "output_type": "stream",
     "text": [
      "Acurácia 0.67\n"
     ]
    }
   ],
   "source": [
    "# Usar um modelo qualquer\n",
    "model = LogisticRegression(solver='liblinear', penalty='l2', C=0.1)\n",
    "model.fit(X_train, y_train)\n",
    "print('Acurácia', model.score(X_test, y_test))"
   ]
  },
  {
   "cell_type": "code",
   "execution_count": 13,
   "metadata": {},
   "outputs": [
    {
     "name": "stdout",
     "output_type": "stream",
     "text": [
      "0.72118808\n"
     ]
    }
   ],
   "source": [
    "# Cálculo da curva ROC e da AUC:\n",
    "y_prob = model.predict_proba(X_test)[::,1]\n",
    "fpr, tpr, _ = metrics.roc_curve(y_test, y_prob)\n",
    "auroc = float(format(metrics.roc_auc_score(y_test, y_prob), '.8f'))\n",
    "print(auroc)"
   ]
  },
  {
   "cell_type": "code",
   "execution_count": 14,
   "metadata": {},
   "outputs": [
    {
     "data": {
      "image/png": "[encoded data removed]",
      "text/plain": [
       "<Figure size 432x288 with 1 Axes>"
      ]
     },
     "metadata": {
      "needs_background": "light"
     },
     "output_type": "display_data"
    }
   ],
   "source": [
    "# Plotar os Dados\n",
    "plt.plot(fpr, tpr, label='Curva ROC (area = %0.2f)' % auroc)\n",
    "plt.plot([0, 1], [0, 1], 'k--')\n",
    "plt.xlabel('Taxa de Falso Positivo')\n",
    "plt.ylabel('Taxa de Verdadeiro Positivo')\n",
    "plt.title('Exemplo do ROC')\n",
    "plt.legend(loc=\"lower right\")\n",
    "plt.show()"
   ]
  },
  {
   "cell_type": "markdown",
   "metadata": {},
   "source": [
    "O ROC possui dois parâmetros:\n",
    "\n",
    "* Taxa de verdadeiro positivo (True Positive Rate), que é dado por true positives / (true positives + false negatives). Essa taxa também é conhecida como sensibilidade, recordação ou probabilidade de detecção (sensitivity, recall ou probability of detection)\n",
    "* Taxa de falso positivo (False Positive Rate), que é dado por false positives / (false positives + true negatives). A taxa de falsos positivos também é conhecida como probabilidade de alarme falso ( fall-out or probability of false alarm) e pode ser calculada como (1 — Specificity). A Specificity (especificidade) também é conhecida como true negative rate. Por exemplo, quantas pessoas sem uma doença (true negative) foi classificadas como sadias.\n",
    "\n",
    "AUC resume a curva ROC num único valor que é o calculo da “área sob a curva”."
   ]
  },
  {
   "cell_type": "markdown",
   "metadata": {},
   "source": [
    "## Estudo sobre o Câncer de Mama"
   ]
  },
  {
   "cell_type": "code",
   "execution_count": 15,
   "metadata": {},
   "outputs": [
    {
     "name": "stdout",
     "output_type": "stream",
     "text": [
      "455 114\n"
     ]
    }
   ],
   "source": [
    "# Carregar a Base\n",
    "cancer = load_breast_cancer()\n",
    "\n",
    "# Separar os Dados\n",
    "X_train, X_test, y_train, y_test = train_test_split(cancer.data, cancer.target, test_size = .2)\n",
    "print(len(X_train), len(X_test))"
   ]
  },
  {
   "cell_type": "markdown",
   "metadata": {},
   "source": [
    "## Retornar a Acurácia dos Modelos"
   ]
  },
  {
   "cell_type": "code",
   "execution_count": 16,
   "metadata": {},
   "outputs": [],
   "source": [
    "def score(mdl, Xtrn, Xtst, ytrn, ytst):\n",
    "    mdl.fit(Xtrn, ytrn)\n",
    "    return float(format(mdl.score(Xtst, ytst), '.8f'))"
   ]
  },
  {
   "cell_type": "code",
   "execution_count": 17,
   "metadata": {},
   "outputs": [],
   "source": [
    "def auroc(ytst, yprob):\n",
    "    fpr, tpr, _ = metrics.roc_curve(ytst, yprob)\n",
    "    auc = float(format(metrics.roc_auc_score(ytst, yprob), '.8f'))\n",
    "    return fpr, tpr, auc"
   ]
  },
  {
   "cell_type": "markdown",
   "metadata": {},
   "source": [
    "## Regressão Logística"
   ]
  },
  {
   "cell_type": "code",
   "execution_count": 27,
   "metadata": {},
   "outputs": [
    {
     "name": "stdout",
     "output_type": "stream",
     "text": [
      "Acurácia 0.96491228\n"
     ]
    }
   ],
   "source": [
    "clfLR = LogisticRegression(solver='liblinear', penalty='l2', C=0.1)\n",
    "print(\"Acurácia\", score(clfLR, X_train, X_test, y_train, y_test))"
   ]
  },
  {
   "cell_type": "code",
   "execution_count": 28,
   "metadata": {},
   "outputs": [
    {
     "name": "stdout",
     "output_type": "stream",
     "text": [
      "AUC 0.99766121\n"
     ]
    }
   ],
   "source": [
    "y_probLR = clfLR.predict_proba(X_test)[::,1]\n",
    "fprLR, tprLR, aucLR = auroc(y_test,  y_probLR)\n",
    "print(\"AUC\", aucLR)"
   ]
  },
  {
   "cell_type": "markdown",
   "metadata": {},
   "source": [
    "## Árvore de Decisão"
   ]
  },
  {
   "cell_type": "code",
   "execution_count": 22,
   "metadata": {},
   "outputs": [
    {
     "name": "stdout",
     "output_type": "stream",
     "text": [
      "Acurácia 0.96491228\n"
     ]
    }
   ],
   "source": [
    "clfDT = DecisionTreeClassifier()\n",
    "print(\"Acurácia\", score(clfDT, X_train, X_test, y_train, y_test))"
   ]
  },
  {
   "cell_type": "code",
   "execution_count": 33,
   "metadata": {},
   "outputs": [
    {
     "name": "stdout",
     "output_type": "stream",
     "text": [
      "AUC 0.95656532\n"
     ]
    }
   ],
   "source": [
    "y_probDT = clfDT.predict_proba(X_test)[::,1]\n",
    "fprDT, tprDT, aucDT = auroc(y_test,  y_probDT)\n",
    "print(\"AUC\", aucDT)"
   ]
  },
  {
   "cell_type": "markdown",
   "metadata": {},
   "source": [
    "## Floresta Aleatória"
   ]
  },
  {
   "cell_type": "code",
   "execution_count": 34,
   "metadata": {},
   "outputs": [
    {
     "name": "stdout",
     "output_type": "stream",
     "text": [
      "Acurácia 0.96491228\n"
     ]
    }
   ],
   "source": [
    "clfRF = RandomForestClassifier()\n",
    "print(\"Acurácia\", score(clfRF, X_train, X_test, y_train, y_test))"
   ]
  },
  {
   "cell_type": "code",
   "execution_count": 35,
   "metadata": {},
   "outputs": [
    {
     "name": "stdout",
     "output_type": "stream",
     "text": [
      "AUC 0.98179085\n"
     ]
    }
   ],
   "source": [
    "y_probRF = clfRF.predict_proba(X_test)[::,1]\n",
    "fprRF, tprRF, aucRF = auroc(y_test,  y_probRF)\n",
    "print(\"AUC\", aucRF)"
   ]
  },
  {
   "cell_type": "markdown",
   "metadata": {},
   "source": [
    "## Plotar a curva ROC"
   ]
  },
  {
   "cell_type": "code",
   "execution_count": 36,
   "metadata": {},
   "outputs": [
    {
     "data": {
      "image/png": "[encoded data removed]",
      "text/plain": [
       "<Figure size 432x288 with 1 Axes>"
      ]
     },
     "metadata": {
      "needs_background": "light"
     },
     "output_type": "display_data"
    }
   ],
   "source": [
    "plt.plot([0, 1], [0, 1], 'k--')\n",
    "plt.plot(fprLR,tprLR,label=\"LR \" + str(aucLR))\n",
    "plt.plot(fprDT,tprDT,label=\"DT \" + str(aucDT))\n",
    "plt.plot(fprRF,tprRF,label=\"RF \" + str(aucRF))\n",
    "plt.xlabel('Taxa de Falso Positivo')\n",
    "plt.ylabel('Taxa de Verdadeiro Positivo')\n",
    "plt.title('Detecção do Câncer de Mama')\n",
    "plt.legend(loc=\"lower right\")\n",
    "plt.show()"
   ]
  }
 ],
 "metadata": {
  "kernelspec": {
   "display_name": "Python 3",
   "language": "python",
   "name": "python3"
  },
  "language_info": {
   "codemirror_mode": {
    "name": "ipython",
    "version": 3
   },
   "file_extension": ".py",
   "mimetype": "text/x-python",
   "name": "python",
   "nbconvert_exporter": "python",
   "pygments_lexer": "ipython3",
   "version": "3.7.5"
  }
 },
 "nbformat": 4,
 "nbformat_minor": 4
}
